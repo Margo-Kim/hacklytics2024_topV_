{
 "cells": [
  {
   "cell_type": "code",
   "execution_count": 1,
   "metadata": {},
   "outputs": [
    {
     "name": "stdout",
     "output_type": "stream",
     "text": [
      "Intel MKL WARNING: Support of Intel(R) Streaming SIMD Extensions 4.2 (Intel(R) SSE4.2) enabled only processors has been deprecated. Intel oneAPI Math Kernel Library 2025.0 will require Intel(R) Advanced Vector Extensions (Intel(R) AVX) instructions.\n",
      "Intel MKL WARNING: Support of Intel(R) Streaming SIMD Extensions 4.2 (Intel(R) SSE4.2) enabled only processors has been deprecated. Intel oneAPI Math Kernel Library 2025.0 will require Intel(R) Advanced Vector Extensions (Intel(R) AVX) instructions.\n"
     ]
    }
   ],
   "source": [
    "import requests\n",
    "from tqdm import tqdm\n",
    "import pandas as pd"
   ]
  },
  {
   "cell_type": "markdown",
   "metadata": {},
   "source": [
    "## Scrape Top 100 of S&P 500 Stocks "
   ]
  },
  {
   "cell_type": "code",
   "execution_count": 2,
   "metadata": {},
   "outputs": [],
   "source": [
    "# S&P 500 Companies List by Market Capitalization 2023\n",
    "top100 = pd.read_html('https://www.liberatedstocktrader.com/sp-500-companies/')\n"
   ]
  },
  {
   "cell_type": "code",
   "execution_count": 3,
   "metadata": {},
   "outputs": [
    {
     "data": {
      "text/html": [
       "<div>\n",
       "<style scoped>\n",
       "    .dataframe tbody tr th:only-of-type {\n",
       "        vertical-align: middle;\n",
       "    }\n",
       "\n",
       "    .dataframe tbody tr th {\n",
       "        vertical-align: top;\n",
       "    }\n",
       "\n",
       "    .dataframe thead th {\n",
       "        text-align: right;\n",
       "    }\n",
       "</style>\n",
       "<table border=\"1\" class=\"dataframe\">\n",
       "  <thead>\n",
       "    <tr style=\"text-align: right;\">\n",
       "      <th></th>\n",
       "      <th>Ticker</th>\n",
       "      <th>Description</th>\n",
       "      <th>Sector</th>\n",
       "      <th>Market Capitalization</th>\n",
       "    </tr>\n",
       "  </thead>\n",
       "  <tbody>\n",
       "    <tr>\n",
       "      <th>1</th>\n",
       "      <td>AAPL</td>\n",
       "      <td>Apple Inc.</td>\n",
       "      <td>Electronic Technology</td>\n",
       "      <td>2728017215293</td>\n",
       "    </tr>\n",
       "    <tr>\n",
       "      <th>2</th>\n",
       "      <td>MSFT</td>\n",
       "      <td>Microsoft Corporation</td>\n",
       "      <td>Technology Services</td>\n",
       "      <td>2351371643107</td>\n",
       "    </tr>\n",
       "    <tr>\n",
       "      <th>3</th>\n",
       "      <td>GOOG</td>\n",
       "      <td>Alphabet Inc.</td>\n",
       "      <td>Technology Services</td>\n",
       "      <td>1611856497958</td>\n",
       "    </tr>\n",
       "    <tr>\n",
       "      <th>4</th>\n",
       "      <td>GOOGL</td>\n",
       "      <td>Alphabet Inc.</td>\n",
       "      <td>Technology Services</td>\n",
       "      <td>1610343852181</td>\n",
       "    </tr>\n",
       "    <tr>\n",
       "      <th>5</th>\n",
       "      <td>AMZN</td>\n",
       "      <td>Amazon.com, Inc.</td>\n",
       "      <td>Retail Trade</td>\n",
       "      <td>1366884251763</td>\n",
       "    </tr>\n",
       "    <tr>\n",
       "      <th>...</th>\n",
       "      <td>...</td>\n",
       "      <td>...</td>\n",
       "      <td>...</td>\n",
       "      <td>...</td>\n",
       "    </tr>\n",
       "    <tr>\n",
       "      <th>96</th>\n",
       "      <td>AMT</td>\n",
       "      <td>American Tower Corporation (REIT)</td>\n",
       "      <td>Finance</td>\n",
       "      <td>82187878166</td>\n",
       "    </tr>\n",
       "    <tr>\n",
       "      <th>97</th>\n",
       "      <td>CB</td>\n",
       "      <td>Chubb Limited</td>\n",
       "      <td>Finance</td>\n",
       "      <td>82105914715</td>\n",
       "    </tr>\n",
       "    <tr>\n",
       "      <th>98</th>\n",
       "      <td>CI</td>\n",
       "      <td>The Cigna Group</td>\n",
       "      <td>Health Services</td>\n",
       "      <td>81693476157</td>\n",
       "    </tr>\n",
       "    <tr>\n",
       "      <th>99</th>\n",
       "      <td>C</td>\n",
       "      <td>Citigroup, Inc.</td>\n",
       "      <td>Finance</td>\n",
       "      <td>81360929490</td>\n",
       "    </tr>\n",
       "    <tr>\n",
       "      <th>100</th>\n",
       "      <td>BDX</td>\n",
       "      <td>Becton, Dickinson and Company</td>\n",
       "      <td>Health Technology</td>\n",
       "      <td>79399811792</td>\n",
       "    </tr>\n",
       "  </tbody>\n",
       "</table>\n",
       "<p>100 rows × 4 columns</p>\n",
       "</div>"
      ],
      "text/plain": [
       "    Ticker                        Description                 Sector  \\\n",
       "1     AAPL                         Apple Inc.  Electronic Technology   \n",
       "2     MSFT              Microsoft Corporation    Technology Services   \n",
       "3     GOOG                      Alphabet Inc.    Technology Services   \n",
       "4    GOOGL                      Alphabet Inc.    Technology Services   \n",
       "5     AMZN                   Amazon.com, Inc.           Retail Trade   \n",
       "..     ...                                ...                    ...   \n",
       "96     AMT  American Tower Corporation (REIT)                Finance   \n",
       "97      CB                      Chubb Limited                Finance   \n",
       "98      CI                    The Cigna Group        Health Services   \n",
       "99       C                    Citigroup, Inc.                Finance   \n",
       "100    BDX      Becton, Dickinson and Company      Health Technology   \n",
       "\n",
       "    Market Capitalization  \n",
       "1           2728017215293  \n",
       "2           2351371643107  \n",
       "3           1611856497958  \n",
       "4           1610343852181  \n",
       "5           1366884251763  \n",
       "..                    ...  \n",
       "96            82187878166  \n",
       "97            82105914715  \n",
       "98            81693476157  \n",
       "99            81360929490  \n",
       "100           79399811792  \n",
       "\n",
       "[100 rows x 4 columns]"
      ]
     },
     "execution_count": 3,
     "metadata": {},
     "output_type": "execute_result"
    }
   ],
   "source": [
    "sp100table = top100[0]\n",
    "\n",
    "sliced_table = sp100table[1:]\n",
    "header = sp100table.iloc[0]\n",
    "corrected_table = sliced_table.rename(columns=header)\n",
    "# Fetch the top 100 companies by market capitalization\n",
    "top_100_companies = corrected_table.iloc[:100]\n",
    "top_100_companies"
   ]
  },
  {
   "cell_type": "code",
   "execution_count": 5,
   "metadata": {},
   "outputs": [],
   "source": [
    "# Save the top 100 companies to a csv file in the Data folder\n",
    "top_100_companies.to_csv('Data/Top_100_Companies.csv')"
   ]
  },
  {
   "cell_type": "code",
   "execution_count": 6,
   "metadata": {},
   "outputs": [],
   "source": [
    "# Save the top 100 companies Ticker to a list\n",
    "top_100_tickers = top_100_companies['Ticker'].tolist()"
   ]
  },
  {
   "cell_type": "code",
   "execution_count": 7,
   "metadata": {},
   "outputs": [],
   "source": [
    "# Save the top 100 companies Ticker to a txt file in the Data folder\n",
    "with open('Data/Top_100_Companies_Tickers.txt', 'w') as filehandle:\n",
    "    for listitem in top_100_tickers:\n",
    "        filehandle.write('%s\\n' % listitem)"
   ]
  },
  {
   "cell_type": "code",
   "execution_count": null,
   "metadata": {},
   "outputs": [],
   "source": []
  }
 ],
 "metadata": {
  "kernelspec": {
   "display_name": "python311",
   "language": "python",
   "name": "python3"
  },
  "language_info": {
   "codemirror_mode": {
    "name": "ipython",
    "version": 3
   },
   "file_extension": ".py",
   "mimetype": "text/x-python",
   "name": "python",
   "nbconvert_exporter": "python",
   "pygments_lexer": "ipython3",
   "version": "3.11.5"
  }
 },
 "nbformat": 4,
 "nbformat_minor": 2
}
